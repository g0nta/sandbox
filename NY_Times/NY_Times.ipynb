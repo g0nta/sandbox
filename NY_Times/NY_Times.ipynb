{
 "cells": [
  {
   "cell_type": "markdown",
   "metadata": {},
   "source": [
    "# Doing Data Science. NY Times Advertisement Data in May 2012 "
   ]
  },
  {
   "cell_type": "code",
   "execution_count": 1,
   "metadata": {},
   "outputs": [],
   "source": [
    "import pandas as pd\n",
    "import numpy as np\n",
    "import matplotlib.pyplot as plt"
   ]
  },
  {
   "cell_type": "code",
   "execution_count": 2,
   "metadata": {},
   "outputs": [],
   "source": [
    "df = pd.read_csv('http://stat.columbia.edu/~rachel/datasets/nyt1.csv')"
   ]
  },
  {
   "cell_type": "code",
   "execution_count": 3,
   "metadata": {},
   "outputs": [],
   "source": [
    "labels = ['<18','18-24','25-34','35-44','45-54','55-64','65+']\n",
    "age_group = pd.cut(df['Age'], np.array([0, 18, 25, 35, 45, 55, 65, 109]), include_lowest=True, right=False, labels=labels)\n",
    "df['age_group'] = age_group"
   ]
  },
  {
   "cell_type": "code",
   "execution_count": 4,
   "metadata": {},
   "outputs": [],
   "source": [
    "group =df.groupby(['age_group']).sum()"
   ]
  },
  {
   "cell_type": "markdown",
   "metadata": {},
   "source": [
    "# 年齢別、男女別のImpressionの比較"
   ]
  },
  {
   "cell_type": "code",
   "execution_count": 4,
   "metadata": {},
   "outputs": [],
   "source": [
    "df_man = df.where(df['Gender']==1)"
   ]
  },
  {
   "cell_type": "code",
   "execution_count": 20,
   "metadata": {},
   "outputs": [],
   "source": [
    "group['Imp_man'] = df_man.groupby('age_group').apply(lambda x : x['Impressions'].sum())"
   ]
  },
  {
   "cell_type": "code",
   "execution_count": 21,
   "metadata": {},
   "outputs": [],
   "source": [
    "group['Imp_wman'] = df.where(df['Gender']==0).groupby('age_group').apply(lambda x:x['Impressions'].sum())"
   ]
  },
  {
   "cell_type": "code",
   "execution_count": 24,
   "metadata": {},
   "outputs": [
    {
     "data": {
      "image/png": "[encoded data removed]",
      "text/plain": [
       "<Figure size 432x288 with 1 Axes>"
      ]
     },
     "metadata": {
      "needs_background": "light"
     },
     "output_type": "display_data"
    }
   ],
   "source": [
    "imp_m = group['Imp_man']\n",
    "imp_w = group['Imp_wman']\n",
    "idx = np.arange(7)\n",
    "w = 0.4\n",
    "plt.bar(idx, imp_m, width=w, color='b', label='Imp_man')\n",
    "plt.bar(idx+w, imp_w, width=w, color='r', label='Imp_wman')\n",
    "plt.show()"
   ]
  },
  {
   "cell_type": "markdown",
   "metadata": {},
   "source": [
    "若者と年寄りだけ女性のImpが多い。。？？理由がようわからん。"
   ]
  },
  {
   "cell_type": "markdown",
   "metadata": {},
   "source": [
    "# 年齢別、男女別のクリックの比較"
   ]
  },
  {
   "cell_type": "code",
   "execution_count": 6,
   "metadata": {},
   "outputs": [
    {
     "data": {
      "image/png": "[encoded data removed]",
      "text/plain": [
       "<Figure size 432x288 with 1 Axes>"
      ]
     },
     "metadata": {
      "needs_background": "light"
     },
     "output_type": "display_data"
    }
   ],
   "source": [
    "group['Clik_man'] = df.where(df['Gender']==1).groupby('age_group').apply(lambda x:x['Clicks'].sum())\n",
    "group['Clik_wman'] = df.where(df['Gender']==0).groupby('age_group').apply(lambda x:x['Clicks'].sum())\n",
    "idx = np.arange(7)\n",
    "w = 0.4\n",
    "plt.bar(idx, group['Clik_man'], width=w, color='b', label='Cl_man')\n",
    "plt.bar(idx+w, group['Clik_wman'], width=w, color='r', label='Cl_wman')\n",
    "plt.show()"
   ]
  },
  {
   "cell_type": "markdown",
   "metadata": {},
   "source": [
    "impとだいたいおなじ感じ。"
   ]
  },
  {
   "cell_type": "code",
   "execution_count": null,
   "metadata": {},
   "outputs": [],
   "source": []
  }
 ],
 "metadata": {
  "kernelspec": {
   "display_name": "Python 3",
   "language": "python",
   "name": "python3"
  },
  "language_info": {
   "codemirror_mode": {
    "name": "ipython",
    "version": 3
   },
   "file_extension": ".py",
   "mimetype": "text/x-python",
   "name": "python",
   "nbconvert_exporter": "python",
   "pygments_lexer": "ipython3",
   "version": "3.6.6"
  }
 },
 "nbformat": 4,
 "nbformat_minor": 2
}
