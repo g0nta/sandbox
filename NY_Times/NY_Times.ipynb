{
 "cells": [
  {
   "cell_type": "markdown",
   "metadata": {},
   "source": [
    "# Doing Data Science. NY Times Advertisement Data in May 2012 "
   ]
  },
  {
   "cell_type": "code",
   "execution_count": 1,
   "metadata": {},
   "outputs": [],
   "source": [
    "import pandas as pd\n",
    "import numpy as np\n",
    "import matplotlib.pyplot as plt"
   ]
  },
  {
   "cell_type": "code",
   "execution_count": 2,
   "metadata": {},
   "outputs": [],
   "source": [
    "df = pd.read_csv('http://stat.columbia.edu/~rachel/datasets/nyt1.csv')"
   ]
  },
  {
   "cell_type": "code",
   "execution_count": 6,
   "metadata": {},
   "outputs": [
    {
     "data": {
      "text/html": [
       "<div>\n",
       "<style scoped>\n",
       "    .dataframe tbody tr th:only-of-type {\n",
       "        vertical-align: middle;\n",
       "    }\n",
       "\n",
       "    .dataframe tbody tr th {\n",
       "        vertical-align: top;\n",
       "    }\n",
       "\n",
       "    .dataframe thead th {\n",
       "        text-align: right;\n",
       "    }\n",
       "</style>\n",
       "<table border=\"1\" class=\"dataframe\">\n",
       "  <thead>\n",
       "    <tr style=\"text-align: right;\">\n",
       "      <th></th>\n",
       "      <th>Age</th>\n",
       "      <th>Gender</th>\n",
       "      <th>Impressions</th>\n",
       "      <th>Clicks</th>\n",
       "      <th>Signed_In</th>\n",
       "      <th>age_group</th>\n",
       "    </tr>\n",
       "  </thead>\n",
       "  <tbody>\n",
       "    <tr>\n",
       "      <th>0</th>\n",
       "      <td>36</td>\n",
       "      <td>0</td>\n",
       "      <td>3</td>\n",
       "      <td>0</td>\n",
       "      <td>1</td>\n",
       "      <td>35-44</td>\n",
       "    </tr>\n",
       "    <tr>\n",
       "      <th>1</th>\n",
       "      <td>73</td>\n",
       "      <td>1</td>\n",
       "      <td>3</td>\n",
       "      <td>0</td>\n",
       "      <td>1</td>\n",
       "      <td>65+</td>\n",
       "    </tr>\n",
       "    <tr>\n",
       "      <th>2</th>\n",
       "      <td>30</td>\n",
       "      <td>0</td>\n",
       "      <td>3</td>\n",
       "      <td>0</td>\n",
       "      <td>1</td>\n",
       "      <td>25-34</td>\n",
       "    </tr>\n",
       "    <tr>\n",
       "      <th>3</th>\n",
       "      <td>49</td>\n",
       "      <td>1</td>\n",
       "      <td>3</td>\n",
       "      <td>0</td>\n",
       "      <td>1</td>\n",
       "      <td>45-54</td>\n",
       "    </tr>\n",
       "    <tr>\n",
       "      <th>4</th>\n",
       "      <td>47</td>\n",
       "      <td>1</td>\n",
       "      <td>11</td>\n",
       "      <td>0</td>\n",
       "      <td>1</td>\n",
       "      <td>45-54</td>\n",
       "    </tr>\n",
       "  </tbody>\n",
       "</table>\n",
       "</div>"
      ],
      "text/plain": [
       "   Age  Gender  Impressions  Clicks  Signed_In age_group\n",
       "0   36       0            3       0          1     35-44\n",
       "1   73       1            3       0          1       65+\n",
       "2   30       0            3       0          1     25-34\n",
       "3   49       1            3       0          1     45-54\n",
       "4   47       1           11       0          1     45-54"
      ]
     },
     "execution_count": 6,
     "metadata": {},
     "output_type": "execute_result"
    }
   ],
   "source": [
    "df.head()"
   ]
  },
  {
   "cell_type": "code",
   "execution_count": 3,
   "metadata": {},
   "outputs": [],
   "source": [
    "labels = ['<18','18-24','25-34','35-44','45-54','55-64','65+']\n",
    "age_group = pd.cut(df['Age'], np.array([0, 18, 25, 35, 45, 55, 65, 109]), include_lowest=True, right=False, labels=labels)\n",
    "df['age_group'] = age_group"
   ]
  },
  {
   "cell_type": "code",
   "execution_count": 4,
   "metadata": {},
   "outputs": [],
   "source": [
    "group =df.groupby(['age_group']).sum()"
   ]
  },
  {
   "cell_type": "markdown",
   "metadata": {},
   "source": [
    "# 年齢別、男女別のImpressionの比較"
   ]
  },
  {
   "cell_type": "code",
   "execution_count": 4,
   "metadata": {},
   "outputs": [],
   "source": [
    "df_man = df.where(df['Gender']==1)"
   ]
  },
  {
   "cell_type": "code",
   "execution_count": 20,
   "metadata": {},
   "outputs": [],
   "source": [
    "group['Imp_man'] = df_man.groupby('age_group').apply(lambda x : x['Impressions'].sum())"
   ]
  },
  {
   "cell_type": "code",
   "execution_count": 21,
   "metadata": {},
   "outputs": [],
   "source": [
    "group['Imp_wman'] = df.where(df['Gender']==0).groupby('age_group').apply(lambda x:x['Impressions'].sum())"
   ]
  },
  {
   "cell_type": "code",
   "execution_count": 24,
   "metadata": {},
   "outputs": [
    {
     "data": {
      "image/png": "[encoded data removed]",
      "text/plain": [
       "<Figure size 432x288 with 1 Axes>"
      ]
     },
     "metadata": {
      "needs_background": "light"
     },
     "output_type": "display_data"
    }
   ],
   "source": [
    "imp_m = group['Imp_man']\n",
    "imp_w = group['Imp_wman']\n",
    "idx = np.arange(7)\n",
    "w = 0.4\n",
    "plt.bar(idx, imp_m, width=w, color='b', label='Imp_man')\n",
    "plt.bar(idx+w, imp_w, width=w, color='r', label='Imp_wman')\n",
    "plt.show()"
   ]
  },
  {
   "cell_type": "markdown",
   "metadata": {},
   "source": [
    "若者と年寄りだけ女性のImpが多い。。？？理由がようわからん。"
   ]
  },
  {
   "cell_type": "markdown",
   "metadata": {},
   "source": [
    "# 年齢別、男女別のクリックの比較"
   ]
  },
  {
   "cell_type": "code",
   "execution_count": 6,
   "metadata": {},
   "outputs": [
    {
     "data": {
      "image/png": "[encoded data removed]",
      "text/plain": [
       "<Figure size 432x288 with 1 Axes>"
      ]
     },
     "metadata": {
      "needs_background": "light"
     },
     "output_type": "display_data"
    }
   ],
   "source": [
    "group['Clik_man'] = df.where(df['Gender']==1).groupby('age_group').apply(lambda x:x['Clicks'].sum())\n",
    "group['Clik_wman'] = df.where(df['Gender']==0).groupby('age_group').apply(lambda x:x['Clicks'].sum())\n",
    "idx = np.arange(7)\n",
    "w = 0.4\n",
    "plt.bar(idx, group['Clik_man'], width=w, color='b', label='Cl_man')\n",
    "plt.bar(idx+w, group['Clik_wman'], width=w, color='r', label='Cl_wman')\n",
    "plt.show()"
   ]
  },
  {
   "cell_type": "markdown",
   "metadata": {},
   "source": [
    "impとだいたいおなじ感じ。"
   ]
  },
  {
   "cell_type": "markdown",
   "metadata": {},
   "source": [
    "# Signed Inの特徴を調べる"
   ]
  },
  {
   "cell_type": "markdown",
   "metadata": {},
   "source": [
    "## SignedとUnsignedの比較"
   ]
  },
  {
   "cell_type": "code",
   "execution_count": 10,
   "metadata": {},
   "outputs": [
    {
     "data": {
      "text/plain": [
       "<BarContainer object of 2 artists>"
      ]
     },
     "execution_count": 10,
     "metadata": {},
     "output_type": "execute_result"
    },
    {
     "data": {
      "image/png": "[encoded data removed]",
      "text/plain": [
       "<Figure size 432x288 with 1 Axes>"
      ]
     },
     "metadata": {
      "needs_background": "light"
     },
     "output_type": "display_data"
    }
   ],
   "source": [
    "signed_in = [df['Signed_In'].where(df['Signed_In']==0).count(), df['Signed_In'].where(df['Signed_In']==1).count()]\n",
    "label = ['Unsigned', 'Signed']\n",
    "plt.bar(label, signed_in)"
   ]
  },
  {
   "cell_type": "markdown",
   "metadata": {},
   "source": [
    "圧倒的Signed."
   ]
  },
  {
   "cell_type": "markdown",
   "metadata": {},
   "source": [
    "## 男女別"
   ]
  },
  {
   "cell_type": "code",
   "execution_count": 21,
   "metadata": {},
   "outputs": [],
   "source": [
    "group_signed_man = df.where(df['Gender']==1).groupby('Signed_In').apply(lambda x:x['Signed_In'].count())\n",
    "group_signed_wman = df.where(df['Gender']==0).groupby('Signed_In').apply(lambda x:x['Signed_In'].count())"
   ]
  },
  {
   "cell_type": "code",
   "execution_count": 24,
   "metadata": {},
   "outputs": [
    {
     "data": {
      "image/png": "[encoded data removed]",
      "text/plain": [
       "<Figure size 432x288 with 1 Axes>"
      ]
     },
     "metadata": {
      "needs_background": "light"
     },
     "output_type": "display_data"
    }
   ],
   "source": [
    "idx = np.arange(2)\n",
    "w = 0.4\n",
    "plt.bar(idx, group_signed_man, width=w, color='b', label='Signed_man')\n",
    "plt.bar(idx+w, group_signed_wman, width=w, color='r', label='Signed_wman')\n",
    "plt.show()"
   ]
  },
  {
   "cell_type": "code",
   "execution_count": 31,
   "metadata": {},
   "outputs": [
    {
     "name": "stdout",
     "output_type": "stream",
     "text": [
      "                 Age  Gender  Impressions   Clicks\n",
      "Signed_In                                         \n",
      "0.0              0.0     0.0     685483.0  19480.0\n",
      "1.0        6646810.0     0.0     767299.0  11192.0\n",
      "                 Age    Gender  Impressions   Clicks\n",
      "Signed_In                                           \n",
      "1.0        6869200.0  168265.0     842777.0  11777.0\n"
     ]
    }
   ],
   "source": [
    "a = df.where(df['Gender']==0).groupby('Signed_In').sum()\n",
    "b = df.where(df['Gender']==1).groupby('Signed_In').sum()\n",
    "print(a)\n",
    "print(b)"
   ]
  },
  {
   "cell_type": "markdown",
   "metadata": {},
   "source": [
    "男は皆サインインしてる。女は半々くらい。"
   ]
  },
  {
   "cell_type": "markdown",
   "metadata": {},
   "source": [
    "## 年齢別比較"
   ]
  },
  {
   "cell_type": "code",
   "execution_count": 35,
   "metadata": {},
   "outputs": [
    {
     "data": {
      "text/plain": [
       "age_group\n",
       "18-24    1.000000\n",
       "25-34    1.000000\n",
       "35-44    1.000000\n",
       "45-54    1.000000\n",
       "55-64    1.000000\n",
       "65+      1.000000\n",
       "<18      0.030806\n",
       "dtype: float64"
      ]
     },
     "execution_count": 35,
     "metadata": {},
     "output_type": "execute_result"
    }
   ],
   "source": [
    "c = df.where(df['Gender']==0).groupby('age_group').apply(lambda x : x['Signed_In'].sum()/x['Signed_In'].count())\n",
    "c"
   ]
  },
  {
   "cell_type": "markdown",
   "metadata": {},
   "source": [
    "サインインしてないの全部未成年。未成年はほとんどサインインしてない。"
   ]
  },
  {
   "cell_type": "markdown",
   "metadata": {},
   "source": [
    "## ImpressionとClickの比較"
   ]
  },
  {
   "cell_type": "markdown",
   "metadata": {},
   "source": [
    "未成年かつ女性に限定して調べます。"
   ]
  },
  {
   "cell_type": "markdown",
   "metadata": {},
   "source": [
    "#### Impression"
   ]
  },
  {
   "cell_type": "code",
   "execution_count": 44,
   "metadata": {},
   "outputs": [
    {
     "data": {
      "image/png": "[encoded data removed]",
      "text/plain": [
       "<Figure size 432x288 with 1 Axes>"
      ]
     },
     "metadata": {
      "needs_background": "light"
     },
     "output_type": "display_data"
    }
   ],
   "source": [
    "df_temp = df.where((df['age_group']=='<18') & (df['Gender']==0))\n",
    "df_click_signed = df_temp.where(df['Signed_In']==1).groupby('Signed_In').apply(lambda x : x['Impressions'].sum())\n",
    "df_click_unsigned = df_temp.where(df['Signed_In']==0).groupby('Signed_In').apply(lambda x : x['Impressions'].sum())\n",
    "\n",
    "idx = np.arange(2)\n",
    "w = 0.4\n",
    "plt.bar(idx, df_click_signed, width=w, color='b', label='Signed')\n",
    "plt.bar(idx+w, df_click_unsigned, width=w, color='r', label='Unsigned')\n",
    "plt.show()"
   ]
  },
  {
   "cell_type": "markdown",
   "metadata": {},
   "source": [
    "サインインしてないやつらのImpが圧倒的！！！"
   ]
  },
  {
   "cell_type": "markdown",
   "metadata": {},
   "source": [
    "#### Click"
   ]
  },
  {
   "cell_type": "code",
   "execution_count": 45,
   "metadata": {},
   "outputs": [
    {
     "data": {
      "image/png": "[encoded data removed]",
      "text/plain": [
       "<Figure size 432x288 with 1 Axes>"
      ]
     },
     "metadata": {
      "needs_background": "light"
     },
     "output_type": "display_data"
    }
   ],
   "source": [
    "df_temp = df.where((df['age_group']=='<18') & (df['Gender']==0))\n",
    "df_click_signed = df_temp.where(df['Signed_In']==1).groupby('Signed_In').apply(lambda x : x['Clicks'].sum())\n",
    "df_click_unsigned = df_temp.where(df['Signed_In']==0).groupby('Signed_In').apply(lambda x : x['Clicks'].sum())\n",
    "\n",
    "idx = np.arange(2)\n",
    "w = 0.4\n",
    "plt.bar(idx, df_click_signed, width=w, color='b', label='Signed')\n",
    "plt.bar(idx+w, df_click_unsigned, width=w, color='r', label='Unsigned')\n",
    "plt.show()"
   ]
  },
  {
   "cell_type": "markdown",
   "metadata": {},
   "source": [
    "Clickも同様。"
   ]
  }
 ],
 "metadata": {
  "kernelspec": {
   "display_name": "Python 3",
   "language": "python",
   "name": "python3"
  },
  "language_info": {
   "codemirror_mode": {
    "name": "ipython",
    "version": 3
   },
   "file_extension": ".py",
   "mimetype": "text/x-python",
   "name": "python",
   "nbconvert_exporter": "python",
   "pygments_lexer": "ipython3",
   "version": "3.6.6"
  }
 },
 "nbformat": 4,
 "nbformat_minor": 2
}
