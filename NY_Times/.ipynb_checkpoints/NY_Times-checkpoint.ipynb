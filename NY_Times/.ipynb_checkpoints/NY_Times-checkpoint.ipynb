{
 "cells": [
  {
   "cell_type": "code",
   "execution_count": 1,
   "metadata": {},
   "outputs": [],
   "source": [
    "import pandas as pd\n",
    "import numpy as np\n",
    "import matplotlib.pyplot as plt"
   ]
  },
  {
   "cell_type": "code",
   "execution_count": 2,
   "metadata": {},
   "outputs": [],
   "source": [
    "df = pd.read_csv('http://stat.columbia.edu/~rachel/datasets/nyt1.csv')"
   ]
  },
  {
   "cell_type": "code",
   "execution_count": 3,
   "metadata": {},
   "outputs": [],
   "source": [
    "labels = ['<18','18-24','25-34','35-44','45-54','55-64','65+']\n",
    "age_group = pd.cut(df['Age'], np.array([0, 18, 25, 35, 45, 55, 65, 109]), include_lowest=True, right=False, labels=labels)\n",
    "df['age_group'] = age_group"
   ]
  },
  {
   "cell_type": "code",
   "execution_count": 16,
   "metadata": {},
   "outputs": [],
   "source": [
    "group =df.groupby(['age_group']).sum()"
   ]
  },
  {
   "cell_type": "markdown",
   "metadata": {},
   "source": [
    "# 年齢別、男女別のImpressionの比較"
   ]
  },
  {
   "cell_type": "code",
   "execution_count": 4,
   "metadata": {},
   "outputs": [],
   "source": [
    "df_man = df.where(df['Gender']==1)"
   ]
  },
  {
   "cell_type": "code",
   "execution_count": 20,
   "metadata": {},
   "outputs": [],
   "source": [
    "group['Imp_man'] = df_man.groupby('age_group').apply(lambda x : x['Impressions'].sum())"
   ]
  },
  {
   "cell_type": "code",
   "execution_count": 21,
   "metadata": {},
   "outputs": [],
   "source": [
    "group['Imp_wman'] = df.where(df['Gender']==0).groupby('age_group').apply(lambda x:x['Impressions'].sum())"
   ]
  },
  {
   "cell_type": "code",
   "execution_count": 22,
   "metadata": {},
   "outputs": [
    {
     "data": {
      "text/html": [
       "<div>\n",
       "<style scoped>\n",
       "    .dataframe tbody tr th:only-of-type {\n",
       "        vertical-align: middle;\n",
       "    }\n",
       "\n",
       "    .dataframe tbody tr th {\n",
       "        vertical-align: top;\n",
       "    }\n",
       "\n",
       "    .dataframe thead th {\n",
       "        text-align: right;\n",
       "    }\n",
       "</style>\n",
       "<table border=\"1\" class=\"dataframe\">\n",
       "  <thead>\n",
       "    <tr style=\"text-align: right;\">\n",
       "      <th></th>\n",
       "      <th>Age</th>\n",
       "      <th>Gender</th>\n",
       "      <th>Impressions</th>\n",
       "      <th>Clicks</th>\n",
       "      <th>Signed_In</th>\n",
       "      <th>Imp_wman</th>\n",
       "      <th>Imp_man</th>\n",
       "    </tr>\n",
       "    <tr>\n",
       "      <th>age_group</th>\n",
       "      <th></th>\n",
       "      <th></th>\n",
       "      <th></th>\n",
       "      <th></th>\n",
       "      <th></th>\n",
       "      <th></th>\n",
       "      <th></th>\n",
       "    </tr>\n",
       "  </thead>\n",
       "  <tbody>\n",
       "    <tr>\n",
       "      <th>&lt;18</th>\n",
       "      <td>211045</td>\n",
       "      <td>9470</td>\n",
       "      <td>754722</td>\n",
       "      <td>21545</td>\n",
       "      <td>13828</td>\n",
       "      <td>707283.0</td>\n",
       "      <td>47439.0</td>\n",
       "    </tr>\n",
       "    <tr>\n",
       "      <th>18-24</th>\n",
       "      <td>847791</td>\n",
       "      <td>21721</td>\n",
       "      <td>203585</td>\n",
       "      <td>2167</td>\n",
       "      <td>40694</td>\n",
       "      <td>95057.0</td>\n",
       "      <td>108528.0</td>\n",
       "    </tr>\n",
       "    <tr>\n",
       "      <th>25-34</th>\n",
       "      <td>1716328</td>\n",
       "      <td>30958</td>\n",
       "      <td>290511</td>\n",
       "      <td>2937</td>\n",
       "      <td>58174</td>\n",
       "      <td>136292.0</td>\n",
       "      <td>154219.0</td>\n",
       "    </tr>\n",
       "    <tr>\n",
       "      <th>35-44</th>\n",
       "      <td>2798593</td>\n",
       "      <td>37676</td>\n",
       "      <td>355824</td>\n",
       "      <td>3662</td>\n",
       "      <td>70860</td>\n",
       "      <td>166324.0</td>\n",
       "      <td>189500.0</td>\n",
       "    </tr>\n",
       "    <tr>\n",
       "      <th>45-54</th>\n",
       "      <td>3181779</td>\n",
       "      <td>34007</td>\n",
       "      <td>322109</td>\n",
       "      <td>3232</td>\n",
       "      <td>64288</td>\n",
       "      <td>151650.0</td>\n",
       "      <td>170459.0</td>\n",
       "    </tr>\n",
       "    <tr>\n",
       "      <th>55-64</th>\n",
       "      <td>2661830</td>\n",
       "      <td>23988</td>\n",
       "      <td>224688</td>\n",
       "      <td>4556</td>\n",
       "      <td>44738</td>\n",
       "      <td>104220.0</td>\n",
       "      <td>120468.0</td>\n",
       "    </tr>\n",
       "    <tr>\n",
       "      <th>65+</th>\n",
       "      <td>2098644</td>\n",
       "      <td>10445</td>\n",
       "      <td>144120</td>\n",
       "      <td>4350</td>\n",
       "      <td>28753</td>\n",
       "      <td>91956.0</td>\n",
       "      <td>52164.0</td>\n",
       "    </tr>\n",
       "  </tbody>\n",
       "</table>\n",
       "</div>"
      ],
      "text/plain": [
       "               Age  Gender  Impressions  Clicks  Signed_In  Imp_wman   Imp_man\n",
       "age_group                                                                     \n",
       "<18         211045    9470       754722   21545      13828  707283.0   47439.0\n",
       "18-24       847791   21721       203585    2167      40694   95057.0  108528.0\n",
       "25-34      1716328   30958       290511    2937      58174  136292.0  154219.0\n",
       "35-44      2798593   37676       355824    3662      70860  166324.0  189500.0\n",
       "45-54      3181779   34007       322109    3232      64288  151650.0  170459.0\n",
       "55-64      2661830   23988       224688    4556      44738  104220.0  120468.0\n",
       "65+        2098644   10445       144120    4350      28753   91956.0   52164.0"
      ]
     },
     "execution_count": 22,
     "metadata": {},
     "output_type": "execute_result"
    }
   ],
   "source": [
    "group"
   ]
  },
  {
   "cell_type": "code",
   "execution_count": 24,
   "metadata": {},
   "outputs": [
    {
     "data": {
      "image/png": "[encoded data removed]",
      "text/plain": [
       "<Figure size 432x288 with 1 Axes>"
      ]
     },
     "metadata": {
      "needs_background": "light"
     },
     "output_type": "display_data"
    }
   ],
   "source": [
    "imp_m = group['Imp_man']\n",
    "imp_w = group['Imp_wman']\n",
    "idx = np.arange(7)\n",
    "w = 0.4\n",
    "plt.bar(idx, imp_m, width=w, color='b', label='Imp_man')\n",
    "plt.bar(idx+w, imp_w, width=w, color='r', label='Imp_wman')\n",
    "plt.show()"
   ]
  },
  {
   "cell_type": "markdown",
   "metadata": {},
   "source": [
    "若者と年寄りだけ女性のImpが多い。。？？理由がようわからん。"
   ]
  },
  {
   "cell_type": "markdown",
   "metadata": {},
   "source": [
    "# 年齢別、男女別のクリックの比較"
   ]
  },
  {
   "cell_type": "code",
   "execution_count": null,
   "metadata": {},
   "outputs": [],
   "source": []
  }
 ],
 "metadata": {
  "kernelspec": {
   "display_name": "Python 3",
   "language": "python",
   "name": "python3"
  },
  "language_info": {
   "codemirror_mode": {
    "name": "ipython",
    "version": 3
   },
   "file_extension": ".py",
   "mimetype": "text/x-python",
   "name": "python",
   "nbconvert_exporter": "python",
   "pygments_lexer": "ipython3",
   "version": "3.6.6"
  }
 },
 "nbformat": 4,
 "nbformat_minor": 2
}
